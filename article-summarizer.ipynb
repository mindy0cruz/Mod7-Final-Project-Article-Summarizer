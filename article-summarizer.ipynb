{
 "cells": [
  {
   "cell_type": "markdown",
   "metadata": {},
   "source": [
    "# Web Mining and Applied NLP (44-620)\n",
    "\n",
    "## Final Project: Article Summarizer\n",
    "\n",
    "### Student Name: Mindy Cruz\n",
    "\n",
    "[Module 7- Final Repo ](https://github.com/mindy0cruz/Mod7-Final-Project-Article-Summarizer)\n",
    "\n",
    "\n",
    "Perform the tasks described in the Markdown cells below.  When you have completed the assignment make sure your code cells have all been run (and have output beneath them) and ensure you have committed and pushed ALL of your changes to your assignment repository.\n",
    "\n",
    "You should bring in code from previous assignments to help you answer the questions below.\n",
    "\n",
    "Every question that requires you to write code will have a code cell underneath it; you may either write your entire solution in that cell or write it in a python file (`.py`), then import and run the appropriate code to answer the question."
   ]
  },
  {
   "cell_type": "code",
   "execution_count": 1,
   "metadata": {},
   "outputs": [
    {
     "name": "stdout",
     "output_type": "stream",
     "text": [
      "Package                   VersionAll prereqs installed.\n",
      "\n",
      "------------------------- --------------\n",
      "annotated-types           0.7.0\n",
      "anyio                     4.3.0\n",
      "argon2-cffi               23.1.0\n",
      "argon2-cffi-bindings      21.2.0\n",
      "arrow                     1.3.0\n",
      "asttokens                 2.4.1\n",
      "async-lru                 2.0.4\n",
      "attrs                     23.2.0\n",
      "Babel                     2.15.0\n",
      "beautifulsoup4            4.12.3\n",
      "bleach                    6.1.0\n",
      "blis                      1.0.1\n",
      "catalogue                 2.0.10\n",
      "certifi                   2024.2.2\n",
      "cffi                      1.16.0\n",
      "charset-normalizer        3.3.2\n",
      "click                     8.1.7\n",
      "cloudpathlib              0.20.0\n",
      "colorama                  0.4.6\n",
      "comm                      0.2.2\n",
      "confection                0.1.5\n",
      "contourpy                 1.2.1\n",
      "cycler                    0.12.1\n",
      "cymem                     2.0.8\n",
      "debugpy                   1.8.1\n",
      "decorator                 5.1.1\n",
      "defusedxml                0.7.1\n",
      "en_core_web_sm            3.8.0\n",
      "executing                 2.0.1\n",
      "fastjsonschema            2.19.1\n",
      "fonttools                 4.53.0\n",
      "fqdn                      1.5.1\n",
      "h11                       0.14.0\n",
      "html5lib                  1.1\n",
      "httpcore                  1.0.5\n",
      "httpx                     0.27.0\n",
      "idna                      3.7\n",
      "ipykernel                 6.29.4\n",
      "ipython                   8.24.0\n",
      "ipywidgets                8.1.2\n",
      "isoduration               20.11.0\n",
      "jedi                      0.19.1\n",
      "Jinja2                    3.1.4\n",
      "joblib                    1.4.2\n",
      "json5                     0.9.25\n",
      "jsonpointer               2.4\n",
      "jsonschema                4.22.0\n",
      "jsonschema-specifications 2023.12.1\n",
      "jupyter                   1.0.0\n",
      "jupyter_client            8.6.2\n",
      "jupyter-console           6.6.3\n",
      "jupyter_core              5.7.2\n",
      "jupyter-events            0.10.0\n",
      "jupyter-lsp               2.2.5\n",
      "jupyter_server            2.14.0\n",
      "jupyter_server_terminals  0.5.3\n",
      "jupyterlab                4.2.1\n",
      "jupyterlab_pygments       0.3.0\n",
      "jupyterlab_server         2.27.2\n",
      "jupyterlab_widgets        3.0.10\n",
      "kiwisolver                1.4.5\n",
      "langcodes                 3.4.1\n",
      "language_data             1.2.0\n",
      "lyricsgenius              3.0.1\n",
      "marisa-trie               1.2.1\n",
      "markdown-it-py            3.0.0\n",
      "MarkupSafe                2.1.5\n",
      "matplotlib                3.9.0\n",
      "matplotlib-inline         0.1.7\n",
      "mdurl                     0.1.2\n",
      "mistune                   3.0.2\n",
      "murmurhash                1.0.10\n",
      "nbclient                  0.10.0\n",
      "nbconvert                 7.16.4\n",
      "nbformat                  5.10.4\n",
      "nest-asyncio              1.6.0\n",
      "nltk                      3.9.1\n",
      "notebook                  7.2.0\n",
      "notebook_shim             0.2.4\n",
      "numpy                     2.0.2\n",
      "overrides                 7.7.0\n",
      "packaging                 24.0\n",
      "pandas                    2.2.2\n",
      "pandocfilters             1.5.1\n",
      "parso                     0.8.4\n",
      "pillow                    10.3.0\n",
      "pip                       24.3.1\n",
      "platformdirs              4.2.2\n",
      "preshed                   3.0.9\n",
      "prometheus_client         0.20.0\n",
      "prompt-toolkit            3.0.43\n",
      "psutil                    5.9.8\n",
      "pure-eval                 0.2.2\n",
      "pyarrow                   16.1.0\n",
      "pycparser                 2.22\n",
      "pydantic                  2.9.2\n",
      "pydantic_core             2.23.4\n",
      "Pygments                  2.18.0\n",
      "pyparsing                 3.1.2\n",
      "python-dateutil           2.9.0.post0\n",
      "python-json-logger        2.0.7\n",
      "pytz                      2024.1\n",
      "pywin32                   306\n",
      "pywinpty                  2.0.13\n",
      "PyYAML                    6.0.1\n",
      "pyzmq                     26.0.3\n",
      "qtconsole                 5.5.2\n",
      "QtPy                      2.4.1\n",
      "referencing               0.35.1\n",
      "regex                     2024.11.6\n",
      "requests                  2.31.0\n",
      "rfc3339-validator         0.1.4\n",
      "rfc3986-validator         0.1.1\n",
      "rich                      13.9.4\n",
      "rpds-py                   0.18.1\n",
      "seaborn                   0.13.2\n",
      "Send2Trash                1.8.3\n",
      "setuptools                75.4.0\n",
      "shellingham               1.5.4\n",
      "six                       1.16.0\n",
      "smart-open                7.0.5\n",
      "sniffio                   1.3.1\n",
      "soupsieve                 2.5\n",
      "spacy                     3.8.2\n",
      "spacy-legacy              3.0.12\n",
      "spacy-loggers             1.0.5\n",
      "spacytextblob             5.0.0\n",
      "srsly                     2.4.8\n",
      "stack-data                0.6.3\n",
      "terminado                 0.18.1\n",
      "textblob                  0.18.0.post0\n",
      "thinc                     8.3.2\n",
      "tinycss2                  1.3.0\n",
      "tornado                   6.4\n",
      "tqdm                      4.67.0\n",
      "traitlets                 5.14.3\n",
      "typer                     0.13.0\n",
      "types-python-dateutil     2.9.0.20240316\n",
      "typing_extensions         4.12.2\n",
      "tzdata                    2024.1\n",
      "uri-template              1.3.0\n",
      "urllib3                   2.2.1\n",
      "wasabi                    1.1.3\n",
      "wcwidth                   0.2.13\n",
      "weasel                    0.4.1\n",
      "webcolors                 1.13\n",
      "webencodings              0.5.1\n",
      "websocket-client          1.8.0\n",
      "widgetsnbextension        4.0.10\n",
      "wrapt                     1.16.0\n"
     ]
    }
   ],
   "source": [
    "#Required packages\n",
    "\n",
    "from collections import Counter\n",
    "import pickle\n",
    "import requests\n",
    "import spacy\n",
    "from spacytextblob.spacytextblob import SpacyTextBlob\n",
    "from bs4 import BeautifulSoup\n",
    "import matplotlib.pyplot as plt\n",
    "import json\n",
    "import html5lib\n",
    "\n",
    "!pip list\n",
    "\n",
    "print('All prereqs installed.')\n"
   ]
  },
  {
   "cell_type": "markdown",
   "metadata": {},
   "source": [
    "1. Find on the internet an article or blog post about a topic that interests you and you are able to get the text for using the technologies we have applied in the course.  Get the html for the article and store it in a file (which you must submit with your project)"
   ]
  },
  {
   "cell_type": "markdown",
   "metadata": {},
   "source": [
    "## Question 1"
   ]
  },
  {
   "cell_type": "code",
   "execution_count": 2,
   "metadata": {},
   "outputs": [
    {
     "name": "stdout",
     "output_type": "stream",
     "text": [
      "Article saved to article.pkl\n"
     ]
    }
   ],
   "source": [
    "# url\n",
    "url = \"https://www.wnba.com/news/wnba-delivers-record-setting-2024-season\"\n",
    "\n",
    "# Fetch Content\n",
    "response = requests.get(url)\n",
    "\n",
    "# Check if the request was successful\n",
    "if response.status_code == 200:\n",
    "    # Parse the HTML content\n",
    "    soup = BeautifulSoup(response.text, 'html.parser')\n",
    "    \n",
    "    # Fetch Article\n",
    "    article = soup.find('article')\n",
    "    \n",
    "    # Serialize the article HTML to a .pkl file\n",
    "    with open('article.pkl', 'wb') as file:\n",
    "        pickle.dump(str(article), file)\n",
    "\n",
    "    # Print success message\n",
    "    print(\"Article saved to article.pkl\")\n"
   ]
  },
  {
   "cell_type": "markdown",
   "metadata": {},
   "source": [
    "2. Read in your article's html source from the file you created in question 1 and do sentiment analysis on the article/post's text (use `.get_text()`).  Print the polarity score with an appropriate label.  Additionally print the number of sentences in the original article (with an appropriate label)"
   ]
  },
  {
   "cell_type": "markdown",
   "metadata": {},
   "source": [
    "## Question 2"
   ]
  },
  {
   "cell_type": "code",
   "execution_count": 3,
   "metadata": {},
   "outputs": [
    {
     "name": "stdout",
     "output_type": "stream",
     "text": [
      "Press ReleaseWNBA Delivers Record-Setting 2024 SeasonOfficial Release– Most-Watched WNBA Regular Season on ESPN Platforms Ever – \n",
      "– Set Single-Game Attendance Record and Highest Total Attendance in 22 Years – \n",
      "– All-Time Records for Digital Consumption and Merchandise Sales –\n",
      "NEW YORK, Sept. 27, 2024 – The WNBA delivered its most-watched regular season in 24 years, finished with its highest attendance in 22 years and set records for digital consumption and merchandise sales in 2024.\n",
      "Highlights from the league’s 28th regular season include:\n",
      "\n",
      "VIEWERSHIP: The WNBA attracted an all-time record of more than 54 million unique viewers across ABC, CBS, ESPN, ESPN2, ION and NBA TV. A record 22 regular-season game telecasts averaged at least 1 million viewers.  The season was consumed for a record 136.29 million hours across all national networks.  Additional viewership highlights include the following:\n",
      "\n",
      "This was the most-viewed regular season ever across ESPN platforms with an average of 1.19 million viewers, a 170% increase from last season. The 2024 season featured the top seven most-watched WNBA games ever on ESPN, the two most-watched WNBA games ever on ABC (2.23 million, Seattle Storm at Indiana Fever on Aug. 18; 1.71 million, Indiana at New York Liberty on May 18) and the most-watched WNBA game ever on ESPN2 (2.12 million, Indiana at Connecticut Sun on May 14).\n",
      "CBS Sports delivered its most-watched regular season ever with an average of 1.10 million viewers, up 86% from last year, as well as the most-streamed season ever on Paramount+. CBS had its five most-watched games ever, led by 2.25 million viewers for the Chicago Sky at Indiana on June 16.\n",
      "ION averaged 670,000 viewers – up 133% from last season – and had seven telecasts average at least 1 million viewers.\n",
      "NBA TV more than quadrupled its viewership from 2023 and had its 13 most-watched WNBA games ever, topped by the Las Vegas Aces at Indiana on Sept. 11 (678,000 viewers).\n",
      "In addition to the 22 regular-season games to average at least 1 million viewers, ABC’s presentation of the 2024 AT&T WNBA All-Star Game delivered a record 3.4 million viewers, an increase of +305% versus last season.\n",
      "\n",
      "\n",
      "\n",
      " \n",
      "\n",
      "ATTENDANCE: The WNBA had its highest total attendance in 22 years (2,353,735), up 48% from last season. The league’s 154 sellouts marked a 242% increase from last season (45).  Below are additional attendance highlights:\n",
      "\n",
      "The WNBA averaged 9,807 fans per game, up 48% from last season (6,615 fans).\n",
      "The Indiana vs. Washington Mystics matchup on Sept. 19 at Capital One Arena set a WNBA single-game attendance record of 20,711.  It was one of three games to draw at least 20,000 fans this season, along with 20,366 for Indiana vs. Las Vegas on July 2 and 20,333 for Indiana vs. Washington on June 7.\n",
      "The Fever’s total home attendance of 340,715 fans was a single-season record for a WNBA team, surpassing the previous home attendance record of 250,565 set by New York in 2001 in 16 games.\n",
      "All 12 WNBA teams enjoyed at least double-digit year-over-year growth in attendance this season, led by Indiana (+319%), Los Angeles (+69%) and New York (+64%).\n",
      "The 30 games as part of the Commissioner’s Cup presented by Coinbase averaged 9,377 fans, up 42% from last season.\n",
      "\n",
      "\n",
      "\n",
      " \n",
      "\n",
      "MERCHANDISE: WNBA merchandise sales both online at WNBAStore.com and the flagship location in New York City were up a combined 601% from 2023. In addition, merchandise sales at Dick’s Sporting Goods increased by 233% compared to last season.\n",
      "\n",
      " \n",
      "\n",
      "SOCIAL MEDIA ENGAGEMENT: The WNBA set a single-season record with nearly 2 billion video views across its social media platforms, more than quadruple last season’s total (378 million).\n",
      "\n",
      " \n",
      "\n",
      "WNBA APP: Monthly active users on the WNBA App grew by 252% compared to last season.\n",
      "\n",
      " \n",
      "\n",
      "WNBA LEAGUE PASS: WNBA League Pass, the league’s out-of-market live game package, experienced a 366% growth in subscriptions versus last season.\n",
      "\n",
      " \n",
      "\n",
      "ALL-STAR VOTING: The AT&T WNBA All-Star Game 2024 had a record of nearly 10 million fan votes, a +538% increase compared to 2023.\n",
      "\n",
      " \n",
      "\n",
      "INTERNATIONAL INTEREST: With the next generation of players from around the world playing in the WNBA, the league is making strides to improve the accessibility of games in different regions.\n",
      "\n",
      "Opening-night rosters featured 34 international players from 19 countries outside of the United States.\n",
      "WNBA games aired or streamed in 207 countries and territories.\n",
      "New international distribution deals for the 2024 season included the UK (TNT Sports), Taiwan (Videoland), China (OPG), Brazil (YouTube) and the Philippines (TapDMV).\n",
      "NORTH OF THE BORDER: In May, the WNBA awarded Toronto an expansion franchise to begin play in the 2026 season.\n",
      "\n",
      "2024 WNBA regular-season viewership in Canada was up 148% year over year.\n",
      "The second annual WNBA Canada Game, which was held on May 5 in Edmonton, AB during the preseason, featured a sellout crowd for the second consecutive year (WNBA Canada Game in Toronto in 2023). Viewership of the second Canada Game was up 65% year over year in Canada.\n",
      "\n",
      "\n",
      "\n",
      "\n",
      "\n",
      " \n",
      "\n",
      "PLAYER MILESTONES: WNBA players produced historic performances in the 2024 regular season. Among the highlights:\n",
      "\n",
      "Aces center-forward A’ja Wilson set WNBA single-season records for scoring average (26.9 ppg), total points (1,021) and total rebounds (451). She also became the first player to lead the league in total points, rebounds and blocks (98) in a season.\n",
      "Atlanta Dream center Tina Charles became the WNBA’s career leader in total rebounds (4,014) and double-doubles (194).\n",
      "Charles (7,696 points) and Sun forward-guard DeWanna Bonner (7,482) moved into second and fourth place, respectively, on the WNBA’s career points list.\n",
      "Fever guard Caitlin Clark set WNBA records for most assists both in a season (337) and in a game (19). She also recorded the first two triple-doubles by a rookie in league history and established single-season rookie records for points (769) and three-pointers made (122).\n",
      "Sky forward Angel Reese averaged a WNBA-record 13.1 rebounds per game and set another league mark with 15 consecutive double-doubles.\n",
      "With a league-leading three triple-doubles in the regular season, Sun forward Alyssa Thomas extended her WNBA career record to 11.\n",
      "Liberty forward Breanna Stewart became the fastest player to score 5,000 career points (242 games).\n",
      "Dallas Wings guard Arike Ogunbowale tied the WNBA single-game record for three-pointers made (nine).\n",
      "\n",
      "\n",
      "\n",
      "# # #\n",
      "\n"
     ]
    },
    {
     "ename": "NameError",
     "evalue": "name 'TextBlob' is not defined",
     "output_type": "error",
     "traceback": [
      "\u001b[1;31m---------------------------------------------------------------------------\u001b[0m",
      "\u001b[1;31mNameError\u001b[0m                                 Traceback (most recent call last)",
      "Cell \u001b[1;32mIn[3], line 19\u001b[0m\n\u001b[0;32m     16\u001b[0m nlp\u001b[38;5;241m.\u001b[39madd_pipe(\u001b[38;5;124m\"\u001b[39m\u001b[38;5;124mspacytextblob\u001b[39m\u001b[38;5;124m\"\u001b[39m)\n\u001b[0;32m     18\u001b[0m \u001b[38;5;66;03m# Perform sentiment analysis using TextBlob\u001b[39;00m\n\u001b[1;32m---> 19\u001b[0m blob \u001b[38;5;241m=\u001b[39m \u001b[43mTextBlob\u001b[49m(article_text)\n\u001b[0;32m     20\u001b[0m polarity_score \u001b[38;5;241m=\u001b[39m blob\u001b[38;5;241m.\u001b[39msentiment\u001b[38;5;241m.\u001b[39mpolarity\n\u001b[0;32m     22\u001b[0m \u001b[38;5;66;03m# Analyze the article text using spaCy\u001b[39;00m\n",
      "\u001b[1;31mNameError\u001b[0m: name 'TextBlob' is not defined"
     ]
    }
   ],
   "source": [
    "# Load the article\n",
    "with open('article.pkl', 'rb') as file:\n",
    "    article_html = pickle.load(file)\n",
    "\n",
    "# Parse the HTML using BeautifulSoup\n",
    "soup = BeautifulSoup(article_html, 'html.parser')\n",
    "\n",
    "# Extract and print the text content of the article\n",
    "article_text = soup.get_text()\n",
    "print(article_text)\n",
    "\n",
    "# Load spaCy model\n",
    "nlp = spacy.load(\"en_core_web_sm\")\n",
    "\n",
    "# Add spacytextblob to the pipeline\n",
    "nlp.add_pipe(\"spacytextblob\")\n",
    "\n",
    "# Perform sentiment analysis using TextBlob\n",
    "blob = TextBlob(article_text)\n",
    "polarity_score = blob.sentiment.polarity\n",
    "\n",
    "# Analyze the article text using spaCy\n",
    "doc = nlp(article_text)\n",
    "polarity = doc._.blob.polarity\n",
    "\n",
    "# Determine overall sentiment\n",
    "if polarity > 0:\n",
    "    sentiment = \"Positive\"\n",
    "elif polarity < 0:\n",
    "    sentiment = \"Negative\"\n",
    "else:\n",
    "    sentiment = \"Neutral\"\n",
    "\n",
    "# Count the number of sentences in the article\n",
    "num_sentences = len(list(doc.sents))\n",
    "\n",
    "# Print results\n",
    "print(f\"Polarity Score: {polarity_score:.3f}\")\n",
    "print(f\"Sentiment: {sentiment}\")\n",
    "print(f\"Number of Sentences: {num_sentences}\")"
   ]
  },
  {
   "cell_type": "markdown",
   "metadata": {},
   "source": [
    "3. Load the article text into a trained `spaCy` pipeline, and determine the 5 most frequent tokens (converted to lower case).  Print the common tokens with an appropriate label.  Additionally, print the tokens their frequencies (with appropriate labels)"
   ]
  },
  {
   "cell_type": "markdown",
   "metadata": {},
   "source": [
    "## Question 3"
   ]
  },
  {
   "cell_type": "code",
   "execution_count": null,
   "metadata": {},
   "outputs": [
    {
     "name": "stdout",
     "output_type": "stream",
     "text": [
      "Top 5 Tokens:\n",
      "Token: wnba, Frequency: 34\n",
      "Token: season, Frequency: 34\n",
      "Token: record, Frequency: 14\n",
      "Token: game, Frequency: 14\n",
      "Token: million, Frequency: 14\n"
     ]
    }
   ],
   "source": [
    "\n",
    "# Load spaCy model & process\n",
    "nlp = spacy.load(\"en_core_web_sm\")\n",
    "doc = nlp(article_text)\n",
    "\n",
    "# Filter\n",
    "tokens = [token.text.lower() for token in doc if token.is_alpha and not token.is_stop]\n",
    "\n",
    "# Count token frequencies\n",
    "token_freq = Counter(tokens)\n",
    "\n",
    "# Get the 5 most common tokens\n",
    "most_common_tokens = token_freq.most_common(5)\n",
    "\n",
    "# Print\n",
    "print(\"Top 5 Tokens:\")\n",
    "for token, freq in most_common_tokens:\n",
    "    print(f\"Token: {token}, Frequency: {freq}\")\n"
   ]
  },
  {
   "cell_type": "markdown",
   "metadata": {},
   "source": [
    "4. Load the article text into a trained `spaCy` pipeline, and determine the 5 most frequent lemmas (converted to lower case).  Print the common lemmas with an appropriate label.  Additionally, print the lemmas with their frequencies (with appropriate labels)."
   ]
  },
  {
   "cell_type": "markdown",
   "metadata": {},
   "source": [
    "## Question 4"
   ]
  },
  {
   "cell_type": "code",
   "execution_count": null,
   "metadata": {},
   "outputs": [
    {
     "name": "stdout",
     "output_type": "stream",
     "text": [
      "5 Most Frequent Lemmas:\n",
      "Lemma: 'wnba', Frequency: 34\n",
      "Lemma: 'season', Frequency: 34\n",
      "Lemma: 'game', Frequency: 25\n",
      "Lemma: 'record', Frequency: 19\n",
      "Lemma: 'million', Frequency: 14\n"
     ]
    }
   ],
   "source": [
    "# Load spaCy model & process\n",
    "nlp = spacy.load(\"en_core_web_sm\")\n",
    "doc = nlp(article_text)\n",
    "\n",
    "# Extract \n",
    "lemmas = [token.lemma_.lower() for token in doc if token.is_alpha and not token.is_stop]\n",
    "\n",
    "# Count lemma frequencies\n",
    "lemma_freq = Counter(lemmas)\n",
    "\n",
    "# Get the 5 most common lemmas\n",
    "most_common_lemmas = lemma_freq.most_common(5)\n",
    "\n",
    "# Print results\n",
    "print(\"5 Most Frequent Lemmas:\")\n",
    "for lemma, freq in most_common_lemmas:\n",
    "    print(f\"Lemma: '{lemma}', Frequency: {freq}\")\n"
   ]
  },
  {
   "cell_type": "markdown",
   "metadata": {},
   "source": [
    "5. Make a list containing the scores (using tokens) of every sentence in the article, and plot a histogram with appropriate titles and axis labels of the scores. From your histogram, what seems to be the most common range of scores (put the answer in a comment after your code)?"
   ]
  },
  {
   "cell_type": "markdown",
   "metadata": {},
   "source": [
    "## Question 5"
   ]
  },
  {
   "cell_type": "code",
   "execution_count": null,
   "metadata": {},
   "outputs": [
    {
     "data": {
      "image/png": "[encoded data removed]",
      "text/plain": [
       "<Figure size 640x480 with 1 Axes>"
      ]
     },
     "metadata": {},
     "output_type": "display_data"
    }
   ],
   "source": [
    "# Extract Tokens\n",
    "tokens = [token.text.lower() for token in nlp(article_text) if not token.is_stop and not token.is_punct and not token.is_space]\n",
    "\n",
    "# Find the most frequent tokens\n",
    "token_counts = Counter(tokens)\n",
    "interesting_tokens = [token for token, count in token_counts.most_common(5)]\n",
    "\n",
    "# Get sentences and calculate their scores\n",
    "doc = nlp(article_text)\n",
    "token_scores = [score_sentence_by_token(sent.text, interesting_tokens) for sent in doc.sents]\n",
    "\n",
    "# Plot histogram\n",
    "plt.hist(token_scores, bins=15, color='coral', edgecolor='gray')\n",
    "plt.title('Distribution of Sentence Token Scores')\n",
    "plt.xlabel('Token Score')\n",
    "plt.ylabel('Frequency')\n",
    "plt.grid(True)\n",
    "plt.show()\n",
    "\n",
    "# Most common range of scores is 0.00 to 0.2"
   ]
  },
  {
   "cell_type": "markdown",
   "metadata": {},
   "source": [
    "6. Make a list containing the scores (using lemmas) of every sentence in the article, and plot a histogram with appropriate titles and axis labels of the scores.  From your histogram, what seems to be the most common range of scores (put the answer in a comment after your code)?"
   ]
  },
  {
   "cell_type": "markdown",
   "metadata": {},
   "source": [
    "## Question 6"
   ]
  },
  {
   "cell_type": "code",
   "execution_count": null,
   "metadata": {},
   "outputs": [
    {
     "data": {
      "image/png": "[encoded data removed]",
      "text/plain": [
       "<Figure size 640x480 with 1 Axes>"
      ]
     },
     "metadata": {},
     "output_type": "display_data"
    }
   ],
   "source": [
    "\n",
    "\n",
    "# Extract lemmas \n",
    "lemmas = [token.lemma_.lower() for token in nlp(article_text) if not token.is_stop and not token.is_punct and not token.is_space]\n",
    "\n",
    "# Find most frequent lemmas\n",
    "lemmas_counts = Counter(lemmas)\n",
    "interesting_lemmas = [lemma for lemma, count in lemmas_counts.most_common(5)]\n",
    "\n",
    "#  Get sentences and calculate their scores\n",
    "doc = nlp(article_text)\n",
    "lemmas_scores = [score_sentence_by_lemma(sent.text, interesting_lemmas) for sent in doc.sents]\n",
    "\n",
    "# Plot histogram\n",
    "plt.hist(lemmas_scores, bins=15, color='teal', edgecolor='black')\n",
    "plt.title('Distribution of Sentence Lemma Scores')\n",
    "plt.xlabel('Lemma Score')\n",
    "plt.ylabel('Frequency')\n",
    "plt.grid(True)\n",
    "plt.show()\n",
    "\n",
    "# Most common range of scores is 0.00 to 0.2\n",
    "\n"
   ]
  },
  {
   "cell_type": "markdown",
   "metadata": {},
   "source": [
    "## Question 7"
   ]
  },
  {
   "cell_type": "markdown",
   "metadata": {},
   "source": [
    "7. Using the histograms from questions 5 and 6, decide a \"cutoff\" score for tokens and lemmas such that fewer than half the sentences would have a score greater than the cutoff score.  Record the scores in this Markdown cell\n",
    "\n",
    "* Cutoff Score (tokens): 0.2\n",
    "* Cutoff Score (lemmas): 0.2\n",
    "\n",
    "Feel free to change these scores as you generate your summaries.  Ideally, we're shooting for at least 6 sentences for our summary, but don't want more than 10 (these numbers are rough estimates; they depend on the length of your article)."
   ]
  },
  {
   "cell_type": "markdown",
   "metadata": {},
   "source": [
    "8. Create a summary of the article by going through every sentence in the article and adding it to an (initially) empty list if its score (based on tokens) is greater than the cutoff score you identified in question 8.  If your loop variable is named `sent`, you may find it easier to add `sent.text.strip()` to your list of sentences.  Print the summary (I would cleanly generate the summary text by `join`ing the strings in your list together with a space (`' '.join(sentence_list)`)."
   ]
  },
  {
   "cell_type": "markdown",
   "metadata": {},
   "source": [
    "## Question 8"
   ]
  },
  {
   "cell_type": "code",
   "execution_count": null,
   "metadata": {},
   "outputs": [
    {
     "name": "stdout",
     "output_type": "stream",
     "text": [
      "A record 22 regular-season game telecasts averaged at least 1 million viewers. The season was consumed for a record 136.29 million hours across all national networks. The 2024 season featured the top seven most-watched WNBA games ever on ESPN, the two most-watched WNBA games ever on ABC (2.23 million, Seattle Storm at Indiana Fever on Aug. 18; 1.71 million, Indiana at New York Liberty on May 18) and the most-watched WNBA game ever on ESPN2 (2.12 million, Indiana at Connecticut Sun on May 14). In addition to the 22 regular-season games to average at least 1 million viewers, ABC’s presentation of the 2024 AT&T WNBA All-Star Game delivered a record 3.4 million viewers, an increase of +305% versus last season.\n",
      "\n",
      "\n",
      "\n",
      " \n",
      "\n",
      "ATTENDANCE: The WNBA had its highest total attendance in 22 years (2,353,735), up 48% from last season. Below are additional attendance highlights:\n",
      "\n",
      "The WNBA averaged 9,807 fans per game, up 48% from last season (6,615 fans). The WNBA set a single-season record with nearly 2 billion video views across its social media platforms, more than quadruple last season’s total (378 million). WNBA APP: Monthly active users on the WNBA App grew by 252% compared to last season. WNBA LEAGUE PASS: WNBA League Pass, the league’s out-of-market live game package, experienced a 366% growth in subscriptions versus last season. The AT&T WNBA All-Star Game 2024 had a record of nearly 10 million fan votes, a +538% increase compared to 2023. In May, the WNBA awarded Toronto an expansion franchise to begin play in the 2026 season. 2024 WNBA regular-season viewership in Canada was up 148% year over year. Fever guard Caitlin Clark set WNBA records for most assists both in a season (337) and in a game (19). Dallas Wings guard Arike Ogunbowale tied the WNBA single-game record for three-pointers made (nine).\n"
     ]
    }
   ],
   "source": [
    "# Initialize an empty list to store the selected sentences\n",
    "summary_sentences = []\n",
    "\n",
    "# Loop through each sentence in the article and calculate \n",
    "for sent in doc.sents:\n",
    "    score = score_sentence_by_token(sent.text, interesting_tokens)  \n",
    "    if score > 0.2:  \n",
    "        summary_sentences.append(sent.text.strip())  \n",
    "\n",
    "# Create Summary\n",
    "summary = ' '.join(summary_sentences)\n",
    "print(summary)\n"
   ]
  },
  {
   "cell_type": "markdown",
   "metadata": {},
   "source": [
    "9. Print the polarity score of your summary you generated with the token scores (with an appropriate label). Additionally, print the number of sentences in the summarized article."
   ]
  },
  {
   "cell_type": "markdown",
   "metadata": {},
   "source": [
    "## Question 9"
   ]
  },
  {
   "cell_type": "code",
   "execution_count": null,
   "metadata": {},
   "outputs": [
    {
     "name": "stdout",
     "output_type": "stream",
     "text": [
      "Summary Polarity : -0.031\n",
      "Number of sentences in the Summary: 15\n"
     ]
    }
   ],
   "source": [
    "# Calculate the polarity score \n",
    "summary_blob = TextBlob(summary)\n",
    "summary_polarity_score = summary_blob.sentiment.polarity\n",
    "\n",
    "# Count \n",
    "num_summary_sentences = len(summary_sentences)\n",
    "\n",
    "# Print\n",
    "print(f\"Summary Polarity : {summary_polarity_score:.3f}\")\n",
    "print(f\"Number of sentences in the Summary: {num_summary_sentences}\")"
   ]
  },
  {
   "cell_type": "markdown",
   "metadata": {},
   "source": [
    "10. Create a summary of the article by going through every sentence in the article and adding it to an (initially) empty list if its score (based on lemmas) is greater than the cutoff score you identified in question 8.  If your loop variable is named `sent`, you may find it easier to add `sent.text.strip()` to your list of sentences.  Print the summary (I would cleanly generate the summary text by `join`ing the strings in your list together with a space (`' '.join(sentence_list)`)."
   ]
  },
  {
   "cell_type": "markdown",
   "metadata": {},
   "source": [
    "## Question 10"
   ]
  },
  {
   "cell_type": "code",
   "execution_count": null,
   "metadata": {},
   "outputs": [
    {
     "name": "stdout",
     "output_type": "stream",
     "text": [
      "A record 22 regular-season game telecasts averaged at least 1 million viewers. The season was consumed for a record 136.29 million hours across all national networks. The 2024 season featured the top seven most-watched WNBA games ever on ESPN, the two most-watched WNBA games ever on ABC (2.23 million, Seattle Storm at Indiana Fever on Aug. 18; 1.71 million, Indiana at New York Liberty on May 18) and the most-watched WNBA game ever on ESPN2 (2.12 million, Indiana at Connecticut Sun on May 14). In addition to the 22 regular-season games to average at least 1 million viewers, ABC’s presentation of the 2024 AT&T WNBA All-Star Game delivered a record 3.4 million viewers, an increase of +305% versus last season.\n",
      "\n",
      "\n",
      "\n",
      " \n",
      "\n",
      "ATTENDANCE: The WNBA had its highest total attendance in 22 years (2,353,735), up 48% from last season. Below are additional attendance highlights:\n",
      "\n",
      "The WNBA averaged 9,807 fans per game, up 48% from last season (6,615 fans). The Fever’s total home attendance of 340,715 fans was a single-season record for a WNBA team, surpassing the previous home attendance record of 250,565 set by New York in 2001 in 16 games. The WNBA set a single-season record with nearly 2 billion video views across its social media platforms, more than quadruple last season’s total (378 million). WNBA APP: Monthly active users on the WNBA App grew by 252% compared to last season. WNBA LEAGUE PASS: WNBA League Pass, the league’s out-of-market live game package, experienced a 366% growth in subscriptions versus last season. The AT&T WNBA All-Star Game 2024 had a record of nearly 10 million fan votes, a +538% increase compared to 2023. WNBA games aired or streamed in 207 countries and territories. In May, the WNBA awarded Toronto an expansion franchise to begin play in the 2026 season. 2024 WNBA regular-season viewership in Canada was up 148% year over year. Fever guard Caitlin Clark set WNBA records for most assists both in a season (337) and in a game (19). Dallas Wings guard Arike Ogunbowale tied the WNBA single-game record for three-pointers made (nine).\n"
     ]
    }
   ],
   "source": [
    "# Create an empty list to store sentences for the summary\n",
    "lemma_summary = []\n",
    "\n",
    "# Set the cutoff score for lemmas\n",
    "cutoff_score_lemmas = 0.2 \n",
    "\n",
    "# Loop through each sentence in the article\n",
    "for sent in doc.sents:\n",
    "    # Calculate the score of the sentence based on lemmas\n",
    "    score = score_sentence_by_lemma(sent.text, interesting_lemmas)\n",
    "    \n",
    "    # If the score is greater than the cutoff, add the sentence to the summary list\n",
    "    if score > cutoff_score_lemmas:\n",
    "        lemma_summary.append(sent.text.strip())\n",
    "\n",
    "# Generate the summary \n",
    "summary_text = ' '.join(lemma_summary)\n",
    "\n",
    "# Print \n",
    "print(summary_text)"
   ]
  },
  {
   "cell_type": "markdown",
   "metadata": {},
   "source": [
    "11. Print the polarity score of your summary you generated with the lemma scores (with an appropriate label). Additionally, print the number of sentences in the summarized article."
   ]
  },
  {
   "cell_type": "markdown",
   "metadata": {},
   "source": [
    "## Question 11"
   ]
  },
  {
   "cell_type": "code",
   "execution_count": null,
   "metadata": {},
   "outputs": [
    {
     "name": "stdout",
     "output_type": "stream",
     "text": [
      "Polarity- Summary: -0.025\n",
      "Number of Sentences in the Summary: 17\n"
     ]
    }
   ],
   "source": [
    "# Perform sentiment analysis\n",
    "summary_blob = TextBlob(summary_text)\n",
    "summary_polarity_score = summary_blob.sentiment.polarity\n",
    "\n",
    "# Calculate\n",
    "num_summary_sentences = len(lemma_summary)\n",
    "\n",
    "# Print \n",
    "print(f\"Polarity- Summary: {summary_polarity_score:.3f}\")\n",
    "print(f\"Number of Sentences in the Summary: {num_summary_sentences}\")\n"
   ]
  },
  {
   "cell_type": "markdown",
   "metadata": {},
   "source": [
    "12.  Compare your polarity scores of your summaries to the polarity scores of the initial article.  Is there a difference?  Why do you think that may or may not be?.  Answer in this Markdown cell.  "
   ]
  },
  {
   "cell_type": "markdown",
   "metadata": {},
   "source": [
    "Intial Polarity\n",
    "\n",
    "Polarity Score: -0.011\n",
    "\n",
    "\n",
    "Summary Poliarity\n",
    "\n",
    "Token\n",
    "Summary Polarity: -0.031\n",
    "\n",
    "Lemmas\n",
    "Polarity- Summary: -0.025\n",
    "  \n",
    "\n",
    "Comparison:\n",
    "There is a slight decrease in the Summary polarity scores in comparison to the full article. I would equivialate the additional negativity to not having all the information included in the summary. \n"
   ]
  },
  {
   "cell_type": "markdown",
   "metadata": {},
   "source": [
    "13. Based on your reading of the original article, which summary do you think is better (if there's a difference).  Why do you think this might be?"
   ]
  },
  {
   "cell_type": "markdown",
   "metadata": {},
   "source": [
    "I think they are in the ball park and I dont believe there is much of a differnece between the summary vs the whole article. Knowing what I know about the article I would have guessed this article would have had more of a postive polarity. "
   ]
  },
  {
   "cell_type": "code",
   "execution_count": null,
   "metadata": {},
   "outputs": [
    {
     "data": {
      "text/plain": [
       "0"
      ]
     },
     "execution_count": 201,
     "metadata": {},
     "output_type": "execute_result"
    }
   ],
   "source": [
    "# HTML\n",
    "import os\n",
    "os.system('jupyter nbconvert --to html article-summarizer.ipynb')\n"
   ]
  }
 ],
 "metadata": {
  "kernelspec": {
   "display_name": "Python 3",
   "language": "python",
   "name": "python3"
  },
  "language_info": {
   "codemirror_mode": {
    "name": "ipython",
    "version": 3
   },
   "file_extension": ".py",
   "mimetype": "text/x-python",
   "name": "python",
   "nbconvert_exporter": "python",
   "pygments_lexer": "ipython3",
   "version": "3.12.3"
  }
 },
 "nbformat": 4,
 "nbformat_minor": 4
}
